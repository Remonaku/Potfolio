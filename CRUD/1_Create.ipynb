{
 "cells": [
  {
   "cell_type": "code",
   "execution_count": 10,
   "metadata": {},
   "outputs": [],
   "source": [
    "import pymysql"
   ]
  },
  {
   "cell_type": "code",
   "execution_count": null,
   "metadata": {},
   "outputs": [],
   "source": [
    "# 처음 localhost 생성 시에 Public Key Retrieval is not allowed 에러가 뜰 시, 접속하고자 하는 커넥션을 우클릭\n",
    "# 'Edit connection' 클릭 후, Drivers Properity에서 allowPublicKeyRetrieval를 True로 바꿔준다."
   ]
  },
  {
   "cell_type": "code",
   "execution_count": 11,
   "metadata": {},
   "outputs": [],
   "source": [
    "# pymysql.connect(host=서버IP주소, user=사용자, passoword=암호, db=데이터베이스, charset=문자세트)\n",
    "conn = pymysql.connect(host = 'localhost', user='root', password='1234', db=\"practice\", charset=\"utf8mb4\")\n",
    "\n",
    "# 데이터베이스 통로\n",
    "cur = conn.cursor()"
   ]
  },
  {
   "cell_type": "code",
   "execution_count": 12,
   "metadata": {},
   "outputs": [
    {
     "name": "stdout",
     "output_type": "stream",
     "text": [
      "Table exist\n"
     ]
    }
   ],
   "source": [
    "###### 테이블 생성 ######\n",
    "\n",
    "# 테이블이 존재하는지 확인\n",
    "cur.execute(\"SHOW TABLES LIKE 'userTable'\")\n",
    "result = cur.fetchall()\n",
    "\n",
    "# 만약 존재한다면 텍스트, 아니라면 테이블 생성\n",
    "# BIRTH는 데이터 타입을 DATE로 해도 괜찮을 듯\n",
    "if result:\n",
    "    print('Table exist')\n",
    "else:\n",
    "    cur.execute(\"CREATE TABLE userTable(ID char(4), NAME char(15), EMAIL char(20), BIRTH date)\")"
   ]
  },
  {
   "cell_type": "code",
   "execution_count": 13,
   "metadata": {},
   "outputs": [
    {
     "data": {
      "text/plain": [
       "1"
      ]
     },
     "execution_count": 13,
     "metadata": {},
     "output_type": "execute_result"
    }
   ],
   "source": [
    "# 데이터 입력\n",
    "cur.execute(\"INSERT INTO userTable VALUES('hong', '홍지윤', 'hong@naver.com', '1996-08-16')\")"
   ]
  },
  {
   "cell_type": "code",
   "execution_count": 14,
   "metadata": {},
   "outputs": [],
   "source": [
    "# 데이터베이스 저장을 허락(commit)\n",
    "conn.commit()"
   ]
  },
  {
   "cell_type": "code",
   "execution_count": 15,
   "metadata": {},
   "outputs": [
    {
     "name": "stdout",
     "output_type": "stream",
     "text": [
      "(('hong', '홍지윤', 'hong@naver.com', datetime.date(1996, 8, 16)), ('hong', '홍지윤', 'hong@naver.com', datetime.date(1996, 8, 16)))\n"
     ]
    }
   ],
   "source": [
    "# 테이블 확인\n",
    "cur.execute(\"SELECT * FROM userTable\")\n",
    "result = cur.fetchall()\n",
    "\n",
    "print(result)"
   ]
  },
  {
   "cell_type": "code",
   "execution_count": 16,
   "metadata": {},
   "outputs": [],
   "source": [
    "# 데이터베이스를 다 사용했다면 닫아줘야 한다\n",
    "conn.close()"
   ]
  },
  {
   "cell_type": "code",
   "execution_count": null,
   "metadata": {},
   "outputs": [],
   "source": []
  }
 ],
 "metadata": {
  "kernelspec": {
   "display_name": "base",
   "language": "python",
   "name": "python3"
  },
  "language_info": {
   "codemirror_mode": {
    "name": "ipython",
    "version": 3
   },
   "file_extension": ".py",
   "mimetype": "text/x-python",
   "name": "python",
   "nbconvert_exporter": "python",
   "pygments_lexer": "ipython3",
   "version": "3.11.7"
  }
 },
 "nbformat": 4,
 "nbformat_minor": 2
}
